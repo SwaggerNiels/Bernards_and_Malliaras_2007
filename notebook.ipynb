{
 "cells": [
  {
   "cell_type": "markdown",
   "id": "6a516cdb-bc06-493b-97d1-dee84da18182",
   "metadata": {
    "scrolled": true
   },
   "source": [
    "# Drift OECT model\n",
    "Here you see the simple drift model from Bernards and Malliaras, “Steady-State and Transient Behavior of Organic Electrochemical Transistors.”"
   ]
  },
  {
   "cell_type": "code",
   "execution_count": 1,
   "id": "c79c805b-c714-455e-bdef-4f79942e961b",
   "metadata": {},
   "outputs": [],
   "source": [
    "%%capture\n",
    "%matplotlib widget\n",
    "import matplotlib.pyplot as plt\n",
    "plt.rcParams['figure.figsize'] = [10, 10]\n",
    "%run OECT_sympy.py\n",
    "from ipywidgets import *"
   ]
  },
  {
   "cell_type": "code",
   "execution_count": 5,
   "id": "97490a77-8903-40c8-8db0-bde7e04a5460",
   "metadata": {},
   "outputs": [
    {
     "data": {
      "application/vnd.jupyter.widget-view+json": {
       "model_id": "7ac611a25fed444bbafdc54131abb1c1",
       "version_major": 2,
       "version_minor": 0
      },
      "text/plain": [
       "VBox(children=(GridspecLayout(children=(FloatSlider(value=0.0, description='$t_{0}$', layout=Layout(grid_area=…"
      ]
     },
     "execution_count": 5,
     "metadata": {},
     "output_type": "execute_result"
    }
   ],
   "source": [
    "# widget = oect.widget_groups['Channel electrical']\n",
    "# widget = oect.widget_groups['Steady state current']\n",
    "widget = oect.widget_groups['Transient voltage and current step response']\n",
    "wg,plots = oect.fp_plots(widget)\n",
    "wg"
   ]
  },
  {
   "attachments": {},
   "cell_type": "markdown",
   "id": "42a74af2-f02f-45f7-a595-2ece74098b8e",
   "metadata": {},
   "source": [
    "## Steady-state properties\n",
    "Here you see some electrical properties over the channel length. \n",
    "\n",
    "The top row shows the voltage $V_{DS}$ and the electric field that is induced by this voltage.\\\n",
    "Please have a look at how the different $V_{DS}$ influence the channel.\n",
    "\n",
    "The bottom row shows the charge injected (related to $V_{G}$) into the material over the length of the channel.\\\n",
    "Here you can already notice that the ionic charge injected into the material changes from the source to the drain.\\\n",
    "Next to this is the current flux in the channel (the sides also have current flux, but is kept as zero for reference).\\\n",
    "Please have a look at how different combinations of $V_{G}$ and $V_{DS}$ influence the channel.\n",
    "\n",
    "### More info\n",
    "You can see why this is a depletion mode device.\\\n",
    "When you set:\n",
    "- $V_{DS} = 1$\\\n",
    "then an increase $V_{G}$ leads to a decrease in current flux, $J$.\n",
    "\n",
    "When $V_{G}$ reaches $V_{P}$ the material is completely dedoped.\\\n",
    "This is called the pinch-off voltage, this model is not accurate for $V_{G} > V_{P}$.\\\n",
    "In this case $V_{P} = 1.23$\n",
    "\n",
    "Negative values of $Q$ do not actually correspond with negative charge injected (so can be regarded as zero)."
   ]
  },
  {
   "cell_type": "code",
   "execution_count": null,
   "id": "95591805-fed1-4322-8248-516169954903",
   "metadata": {
    "scrolled": true
   },
   "outputs": [],
   "source": [
    "V = oect.curves['V(x)']\n",
    "E = oect.curves['E(x)']\n",
    "Q = oect.curves['Q(x)']\n",
    "J = oect.curves['J(x)']\n",
    "box_top = HBox(children=[V,E])\n",
    "box_bottom = HBox(children=[Q,J])\n",
    "VBox(children=[box_top, box_bottom], layout=Layout(width='100%', height='1200px'))"
   ]
  },
  {
   "cell_type": "markdown",
   "id": "386948ac-b59e-479f-bbcd-aed7b9359bde",
   "metadata": {},
   "source": [
    "### The $I_{DS}$ curve\n",
    "\n",
    "This is the typically measured curve for any transistor also for the OECT.\\\n",
    "It is actually similar to the previously shown current flux $J$, but here you see it for all values of $V_{DS}$ at the same time.\\\n",
    "Also the current is now integrated over the width and thickness of the channel, $J \\cdot W \\cdot T \\rightarrow I$.\\\n",
    "(\"$\\rightarrow$\" : setting current is continuously differentiable and add the boundary conditions)"
   ]
  },
  {
   "cell_type": "code",
   "execution_count": null,
   "id": "55dfadda-3d5f-498f-a3d1-ce47f849766f",
   "metadata": {},
   "outputs": [],
   "source": [
    "Ids = oect.curves['Isd']\n",
    "fig3 = oect.curves['fig3']\n",
    "HBox(children=[Ids, fig3], layout=Layout(width='100%', height='600px'))"
   ]
  },
  {
   "cell_type": "markdown",
   "id": "82c4da79-1a12-46c3-8bd9-317a549c7b42",
   "metadata": {},
   "source": [
    "## Transient properties\n",
    "The above graphs were all in steady-state, but now let's look at some transient characteristics of an OECT.\\\n",
    "In this model the spatial variation for both the voltage and hole concentration are neglected, so their values are taken as a constant.\\\n",
    "See here ...\n"
   ]
  },
  {
   "cell_type": "code",
   "execution_count": null,
   "id": "8279d4e6-c6a1-40f7-8dab-010d2a837da6",
   "metadata": {
    "scrolled": true
   },
   "outputs": [],
   "source": [
    "Qt = oect.curves['Q(t)']\n",
    "pt = oect.curves['p(t)']\n",
    "HBox(children=[Qt,pt], layout=Layout(width='100%', height='600px'))"
   ]
  },
  {
   "cell_type": "code",
   "execution_count": null,
   "id": "b5374430-7eec-41e3-9f92-93280c57cc8e",
   "metadata": {},
   "outputs": [],
   "source": [
    "VGt = oect.curves['V_G(t)']\n",
    "ISDtVG = oect.curves['I_SD(t,V_G)']\n",
    "fig7 = oect.curves['fig7']\n",
    "HBox(children=[VGt,ISDtVG,fig7], layout=Layout(width='100%', height='600px'))"
   ]
  },
  {
   "cell_type": "code",
   "execution_count": null,
   "id": "e06c8342-f8b8-4b38-abc7-b6cefa7d2744",
   "metadata": {},
   "outputs": [],
   "source": [
    "expt = oect.curves['exp(t)']\n",
    "HBox(children=[expt], layout=Layout(width='100%', height='600px'))"
   ]
  },
  {
   "cell_type": "code",
   "execution_count": 28,
   "id": "9dc78a36-79e9-484c-a86b-c1a3376063b7",
   "metadata": {},
   "outputs": [
    {
     "data": {
      "application/vnd.jupyter.widget-view+json": {
       "model_id": "a851d3b45a414e2fbafdc8f75cc8d964",
       "version_major": 2,
       "version_minor": 0
      },
      "text/plain": [
       "VBox(children=(GridspecLayout(children=(FloatSlider(value=1.0, description='$a$', layout=Layout(grid_area='wid…"
      ]
     },
     "execution_count": 28,
     "metadata": {},
     "output_type": "execute_result"
    }
   ],
   "source": [
    "# from sympy import *\n",
    "from spb import plotgrid\n",
    "from sympy.abc import a, b, c, d, x\n",
    "\n",
    "class myclass():\n",
    "    def __init__(self):\n",
    "        self.a = a\n",
    "        self.b = b\n",
    "        self.c = c\n",
    "        self.d = d\n",
    "        self.x = x\n",
    "    \n",
    "        self.options = dict(\n",
    "            show=False, params={\n",
    "                a: (1, 0, 2),\n",
    "                b: (5, 0, 10),\n",
    "                c: (0, 0, 2*pi),\n",
    "                d: (10, 1, 20)\n",
    "            })\n",
    "    \n",
    "    def test(self):\n",
    "        l = []\n",
    "        p1 = plot(sin(self.x*self.a + self.c) * exp(-abs(self.x) / b), prange(self.x, -self.d, self.d), **self.options)\n",
    "        p2 = plot(cos(self.x*self.a + self.c) * exp(-abs(self.x) / b), (self.x, -10, 10), **self.options)\n",
    "    \n",
    "        l.append(p1)\n",
    "        l.append(p2)\n",
    "        \n",
    "        pg = plotgrid(*l)\n",
    "    \n",
    "        return(pg)\n",
    "\n",
    "c = myclass()\n",
    "c.test()"
   ]
  },
  {
   "cell_type": "code",
   "execution_count": 12,
   "id": "abf7cc19-0085-40aa-b123-1ea8255d76b0",
   "metadata": {},
   "outputs": [
    {
     "data": {
      "text/latex": [
       "$\\displaystyle x$"
      ],
      "text/plain": [
       "x"
      ]
     },
     "execution_count": 12,
     "metadata": {},
     "output_type": "execute_result"
    }
   ],
   "source": [
    "Symbol('x')"
   ]
  },
  {
   "cell_type": "code",
   "execution_count": null,
   "id": "4b5791ff-9d3d-4aae-9c57-4b43f958a5a3",
   "metadata": {},
   "outputs": [],
   "source": []
  }
 ],
 "metadata": {
  "kernelspec": {
   "display_name": "Python 3 (ipykernel)",
   "language": "python",
   "name": "python3"
  },
  "language_info": {
   "codemirror_mode": {
    "name": "ipython",
    "version": 3
   },
   "file_extension": ".py",
   "mimetype": "text/x-python",
   "name": "python",
   "nbconvert_exporter": "python",
   "pygments_lexer": "ipython3",
   "version": "3.11.9"
  }
 },
 "nbformat": 4,
 "nbformat_minor": 5
}
