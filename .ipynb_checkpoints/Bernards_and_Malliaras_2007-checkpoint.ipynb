{
 "cells": [
  {
   "cell_type": "markdown",
   "id": "6a516cdb-bc06-493b-97d1-dee84da18182",
   "metadata": {
    "scrolled": true
   },
   "source": [
    "# Drift OECT model\n",
    "Here you see the simple drift model from `Bernards and Malliaras 2007, “Steady-State and Transient Behavior of Organic Electrochemical Transistors.”`"
   ]
  },
  {
   "cell_type": "code",
   "execution_count": 473,
   "id": "c79c805b-c714-455e-bdef-4f79942e961b",
   "metadata": {},
   "outputs": [],
   "source": [
    "%%capture\n",
    "%matplotlib widget\n",
    "import matplotlib.pyplot as plt\n",
    "plt.rcParams['figure.figsize'] = [12, 6]\n",
    "%run OECT_sympy.py\n",
    "from ipywidgets import *\n",
    "plt.close()"
   ]
  },
  {
   "cell_type": "code",
   "execution_count": 419,
   "id": "66b3f562-533c-41bd-a717-71cbdef1bd7a",
   "metadata": {},
   "outputs": [
    {
     "name": "stdout",
     "output_type": "stream",
     "text": [
      "channel hole diffusion                            "
     ]
    },
    {
     "data": {
      "text/latex": [
       "----- $  D_p = 1.00e-14$  $m^{2}/s$"
      ],
      "text/plain": [
       "<IPython.core.display.Latex object>"
      ]
     },
     "metadata": {},
     "output_type": "display_data"
    },
    {
     "name": "stdout",
     "output_type": "stream",
     "text": [
      "channel hole mobility                             "
     ]
    },
    {
     "data": {
      "text/latex": [
       "----- $ mu_p = 1.00e-06$  $m^{2}/(V·s)$"
      ],
      "text/plain": [
       "<IPython.core.display.Latex object>"
      ]
     },
     "metadata": {},
     "output_type": "display_data"
    },
    {
     "name": "stdout",
     "output_type": "stream",
     "text": [
      "initial hole concentration                        "
     ]
    },
    {
     "data": {
      "text/latex": [
       "----- $  p_0 = 1.00e+27$  $m^{-3}$"
      ],
      "text/plain": [
       "<IPython.core.display.Latex object>"
      ]
     },
     "metadata": {},
     "output_type": "display_data"
    },
    {
     "name": "stdout",
     "output_type": "stream",
     "text": [
      "double layer capacitance                          "
     ]
    },
    {
     "data": {
      "text/latex": [
       "----- $  c_d = 1.50e-02$  $F/m^{2}$"
      ],
      "text/plain": [
       "<IPython.core.display.Latex object>"
      ]
     },
     "metadata": {},
     "output_type": "display_data"
    },
    {
     "name": "stdout",
     "output_type": "stream",
     "text": [
      "series resistance                                 "
     ]
    },
    {
     "data": {
      "text/latex": [
       "----- $  R_s = 1.00e+08$  $Ohm$"
      ],
      "text/plain": [
       "<IPython.core.display.Latex object>"
      ]
     },
     "metadata": {},
     "output_type": "display_data"
    },
    {
     "name": "stdout",
     "output_type": "stream",
     "text": [
      "width of channel                                  "
     ]
    },
    {
     "data": {
      "text/latex": [
       "----- $    W = 6.00e-03$  $m$"
      ],
      "text/plain": [
       "<IPython.core.display.Latex object>"
      ]
     },
     "metadata": {},
     "output_type": "display_data"
    },
    {
     "name": "stdout",
     "output_type": "stream",
     "text": [
      "length of channel                                 "
     ]
    },
    {
     "data": {
      "text/latex": [
       "----- $    L = 5.00e-03$  $m$"
      ],
      "text/plain": [
       "<IPython.core.display.Latex object>"
      ]
     },
     "metadata": {},
     "output_type": "display_data"
    },
    {
     "name": "stdout",
     "output_type": "stream",
     "text": [
      "thickness of channel                              "
     ]
    },
    {
     "data": {
      "text/latex": [
       "----- $    T = 6.25e-08$  $m$"
      ],
      "text/plain": [
       "<IPython.core.display.Latex object>"
      ]
     },
     "metadata": {},
     "output_type": "display_data"
    },
    {
     "name": "stdout",
     "output_type": "stream",
     "text": [
      "pinch voltage                                     "
     ]
    },
    {
     "data": {
      "text/latex": [
       "----- $  V_P = 1.23e+00$  $V$"
      ],
      "text/plain": [
       "<IPython.core.display.Latex object>"
      ]
     },
     "metadata": {},
     "output_type": "display_data"
    },
    {
     "name": "stdout",
     "output_type": "stream",
     "text": [
      "discretization length of channel                  "
     ]
    },
    {
     "data": {
      "text/latex": [
       "----- $   dx = 5.00e-04$  $m$"
      ],
      "text/plain": [
       "<IPython.core.display.Latex object>"
      ]
     },
     "metadata": {},
     "output_type": "display_data"
    },
    {
     "data": {
      "text/plain": []
     },
     "execution_count": 419,
     "metadata": {},
     "output_type": "execute_result"
    }
   ],
   "source": [
    "oect"
   ]
  },
  {
   "attachments": {},
   "cell_type": "markdown",
   "id": "42a74af2-f02f-45f7-a595-2ece74098b8e",
   "metadata": {},
   "source": [
    "## Steady-state properties\n",
    "Here you see some electrical properties over the channel length. \n",
    "\n",
    "### Electronic properties\n",
    "The top row starts (left) with the voltage drop over the length of channel due to the applied drain-source voltage, $V_{DS}$.\\\n",
    "The voltage difference produces an electric field, in the plot besides it. This E-field proportional to the slope of this voltage drop.\\\n",
    "Again next to this one, is the current flux density over the length of the channel, which is the amount of current divided by the width, $W$, and thickness, $T$,\\\n",
    "(the current flux is constant also outside the channel, but the sides are kept as zero for reference).\n",
    "\n",
    "### Ionic/gating properties\n",
    "In the bottow row, the first plot shows the perpendicular voltage over the of channel, which is applied drain-source voltage, $V_{DS}$, minus the gate voltage, $V_G$.\\\n",
    "The positive voltage pushes positive ions into the channel material, this is the charge injected.\\\n",
    "Here you can already notice that the ionic charge injected into the material changes from the source to the drain depending on the perpendicular voltage present.\\\n",
    "Lastly, the total fraction of dedoped charges in the material is shown. The material is intrinsically doped with holes (these allow the current to flow in the plot above it).\\\n",
    "By dedoping the material (e.g. in PEDOT:PSS : by pushing positive ions into it this compensates the PSS$^-$ and makes the PEDOT backbone have less holes --> less doped) the current lowers.\n",
    "\n",
    "Please have a look at how different combinations of $V_{G}$ and $V_{DS}$ influence these channel properties by using the sliders.\n",
    "\n",
    "### More info\n",
    "You can see why this is a depletion mode device.\\\n",
    "When you set:\n",
    "- $V_{DS} = 1$\\\n",
    "then an increase $V_{G}$ leads to a decrease in current flux, $J$.\n",
    "By increasing the gate voltage, you turn of the channel!\n",
    "\n",
    "When $V_{G}$ reaches $V_{P}$ the material is completely dedoped.\\\n",
    "This is called the pinch-off voltage, this model is not accurate for $V_{G} > V_{P}$.\\\n",
    "In this case $V_{P} = 1.23$\n",
    "\n",
    "Negative values of $Q$ do not actually correspond with negative charge injected (so can be regarded as zero)."
   ]
  },
  {
   "cell_type": "code",
   "execution_count": 420,
   "id": "97490a77-8903-40c8-8db0-bde7e04a5460",
   "metadata": {
    "jupyter": {
     "source_hidden": true
    }
   },
   "outputs": [
    {
     "data": {
      "application/vnd.jupyter.widget-view+json": {
       "model_id": "d5b3514fe2a54553b1119d44712e0042",
       "version_major": 2,
       "version_minor": 0
      },
      "text/plain": [
       "VBox(children=(GridspecLayout(children=(FloatSlider(value=0.0, description='$V_{DS}$', layout=Layout(grid_area…"
      ]
     },
     "execution_count": 420,
     "metadata": {},
     "output_type": "execute_result"
    }
   ],
   "source": [
    "widget = oect.widget_groups['Channel electrical']\n",
    "wg,plots = oect.fp_plots(widget)\n",
    "wg"
   ]
  },
  {
   "cell_type": "markdown",
   "id": "386948ac-b59e-479f-bbcd-aed7b9359bde",
   "metadata": {},
   "source": [
    "### The $I_{DS}$ curve\n",
    "\n",
    "This is a typically measured curve for any transistor, also for the OECT.\\\n",
    "It shows the current for differend $V_{DS}$. Here you can also use the slider to change the $V_G$.\\\n",
    "You can compare the level of the previously shown current flux density $J$ for different $V_{DS}$. Here you see it for all values of $V_{DS}$ at the same time.\\\n",
    "Also the current is now integrated over the width and thickness of the channel, $J \\cdot W \\cdot T \\rightarrow I$.\\\n",
    "`(! when doing numerical simulations remember to make the current continuously differentiable and add to the boundary conditions)`\n",
    "\n",
    "On the left you see `Bernards and Malliaras 2007, Figure 3`, and on the right you can see for a little bit bigger range of $V_{DS}$ values."
   ]
  },
  {
   "cell_type": "code",
   "execution_count": 427,
   "id": "55dfadda-3d5f-498f-a3d1-ce47f849766f",
   "metadata": {
    "jupyter": {
     "source_hidden": true
    }
   },
   "outputs": [
    {
     "data": {
      "application/vnd.jupyter.widget-view+json": {
       "model_id": "fadeac7bebdf4bb68aa2dc3a7772d741",
       "version_major": 2,
       "version_minor": 0
      },
      "text/plain": [
       "VBox(children=(GridspecLayout(children=(FloatSlider(value=0.0, description='$V_{G}$', layout=Layout(grid_area=…"
      ]
     },
     "execution_count": 427,
     "metadata": {},
     "output_type": "execute_result"
    }
   ],
   "source": [
    "widget = oect.widget_groups['Steady state current']\n",
    "wg,plots = oect.fp_plots(widget)\n",
    "wg"
   ]
  },
  {
   "cell_type": "markdown",
   "id": "82c4da79-1a12-46c3-8bd9-317a549c7b42",
   "metadata": {},
   "source": [
    "## Transient properties\n",
    "The above analysis was all in steady-state, but now let's look at some transient characteristics of an OECT.\\\n",
    "In this model the spatial variation for both the voltage and hole concentration are neglected, so their values are taken as a constant.\n",
    "\n",
    "To show how the OECT responds to a sudden increase in voltage we apply a voltage step at the gate.\\\n",
    "This is the top left plot, the same voltage is applied as in the `Bernards and Malliaras 2007, Figure 8`.\\\n",
    "In the plot below, you also see the response, also recognizable from `Bernards and Malliaras 2007, Figure 8`,\\\n",
    "here you should toggle between the $V_{DS}$ of 0.75 and 0.01 to get the monotonic decay and the spike-and-recovery responses, respectively.\n",
    "\n",
    "On the left you see the **same responses**, only this time the current is not normalized.\\\n",
    "The top left provides a picture of the linear current, while the bottom left is showing it the logarithmic current range.\n",
    "\n",
    "Please play with the slider values, especially $V_{DS}$ to see how the response changes.\\\n",
    "(Value of $f=0.05$ was fitted to represent the plots in the figures.)"
   ]
  },
  {
   "cell_type": "code",
   "execution_count": 474,
   "id": "9dc78a36-79e9-484c-a86b-c1a3376063b7",
   "metadata": {},
   "outputs": [
    {
     "data": {
      "application/vnd.jupyter.widget-view+json": {
       "model_id": "a3ac9002cec649559f3e4aff8a54c684",
       "version_major": 2,
       "version_minor": 0
      },
      "text/plain": [
       "VBox(children=(GridspecLayout(children=(FloatSlider(value=20.0, description='$t_{0}$', layout=Layout(grid_area…"
      ]
     },
     "execution_count": 474,
     "metadata": {},
     "output_type": "execute_result"
    }
   ],
   "source": [
    "widget = oect.widget_groups['Transient voltage step response']\n",
    "wg,plots = oect.fp_plots(widget)\n",
    "wg"
   ]
  }
 ],
 "metadata": {
  "kernelspec": {
   "display_name": "Python 3 (ipykernel)",
   "language": "python",
   "name": "python3"
  },
  "language_info": {
   "codemirror_mode": {
    "name": "ipython",
    "version": 3
   },
   "file_extension": ".py",
   "mimetype": "text/x-python",
   "name": "python",
   "nbconvert_exporter": "python",
   "pygments_lexer": "ipython3",
   "version": "3.11.9"
  }
 },
 "nbformat": 4,
 "nbformat_minor": 5
}
